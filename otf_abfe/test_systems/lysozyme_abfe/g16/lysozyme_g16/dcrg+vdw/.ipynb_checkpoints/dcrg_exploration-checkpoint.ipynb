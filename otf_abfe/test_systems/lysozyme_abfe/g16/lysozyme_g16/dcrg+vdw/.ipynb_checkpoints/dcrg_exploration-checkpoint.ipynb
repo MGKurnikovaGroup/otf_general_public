{
 "cells": [
  {
   "cell_type": "code",
   "execution_count": 2,
   "id": "a5090628",
   "metadata": {},
   "outputs": [
    {
     "name": "stderr",
     "output_type": "stream",
     "text": [
      "/export/home/sapatel/anaconda3/lib/python3.9/site-packages/alchemlyb/parsing/amber.py:39: FutureWarning: pandas.Float64Index is deprecated and will be removed from pandas in a future version. Use pandas.Index with the appropriate dtype instead.\n",
      "  index=pd.Float64Index(data_dic[\"time\"], name='time'))\n",
      "/export/home/sapatel/anaconda3/lib/python3.9/site-packages/alchemlyb/parsing/amber.py:39: FutureWarning: pandas.Float64Index is deprecated and will be removed from pandas in a future version. Use pandas.Index with the appropriate dtype instead.\n",
      "  index=pd.Float64Index(data_dic[\"time\"], name='time'))\n",
      "/export/home/sapatel/anaconda3/lib/python3.9/site-packages/alchemlyb/parsing/amber.py:39: FutureWarning: pandas.Float64Index is deprecated and will be removed from pandas in a future version. Use pandas.Index with the appropriate dtype instead.\n",
      "  index=pd.Float64Index(data_dic[\"time\"], name='time'))\n",
      "/export/home/sapatel/anaconda3/lib/python3.9/site-packages/alchemlyb/parsing/amber.py:39: FutureWarning: pandas.Float64Index is deprecated and will be removed from pandas in a future version. Use pandas.Index with the appropriate dtype instead.\n",
      "  index=pd.Float64Index(data_dic[\"time\"], name='time'))\n",
      "/export/home/sapatel/anaconda3/lib/python3.9/site-packages/alchemlyb/parsing/amber.py:39: FutureWarning: pandas.Float64Index is deprecated and will be removed from pandas in a future version. Use pandas.Index with the appropriate dtype instead.\n",
      "  index=pd.Float64Index(data_dic[\"time\"], name='time'))\n",
      "/export/home/sapatel/anaconda3/lib/python3.9/site-packages/alchemlyb/parsing/amber.py:39: FutureWarning: pandas.Float64Index is deprecated and will be removed from pandas in a future version. Use pandas.Index with the appropriate dtype instead.\n",
      "  index=pd.Float64Index(data_dic[\"time\"], name='time'))\n",
      "/export/home/sapatel/anaconda3/lib/python3.9/site-packages/alchemlyb/parsing/amber.py:39: FutureWarning: pandas.Float64Index is deprecated and will be removed from pandas in a future version. Use pandas.Index with the appropriate dtype instead.\n",
      "  index=pd.Float64Index(data_dic[\"time\"], name='time'))\n",
      "/export/home/sapatel/anaconda3/lib/python3.9/site-packages/alchemlyb/parsing/amber.py:39: FutureWarning: pandas.Float64Index is deprecated and will be removed from pandas in a future version. Use pandas.Index with the appropriate dtype instead.\n",
      "  index=pd.Float64Index(data_dic[\"time\"], name='time'))\n"
     ]
    },
    {
     "name": "stdout",
     "output_type": "stream",
     "text": [
      "0 0.1 False\n",
      "0.1 0.1\n",
      "0.1 0.2 False\n",
      "0.2 0.2\n",
      "0.2 0.3 False\n",
      "0.3 0.3\n",
      "0.3 0.4 False\n",
      "0.4 0.4\n",
      "0.4 0.5 False\n",
      "0.5 0.5\n",
      "0.5 0.6 False\n",
      "0.6 0.6\n",
      "0.6 0.7 False\n",
      "0.7 0.7\n",
      "0.7 0.8 False\n",
      "0.8 0.8\n",
      "0.8 0.9 False\n",
      "0.9 0.9\n",
      "[array([50.95131325, 52.46784918, 27.91459396, ..., 45.20437843,\n",
      "       37.29695443, 35.49341562]), array([48.41709968, 55.92899313, 45.2669454 , ..., 51.41729454,\n",
      "       51.14404633, 54.82778105]), array([67.86603143, 62.66810913, 58.53634128, ..., 63.00778231,\n",
      "       62.69930874, 69.44916008]), array([64.78280535, 84.52259799, 82.08248647, ..., 67.70802049,\n",
      "       80.11674323, 56.78312442]), array([46.12560566, 87.11199797, 82.6774597 , ..., 67.81419982,\n",
      "       81.55813171, 60.85031243]), array([74.45703314, 72.74172549, 78.9163969 , ..., 68.84361924,\n",
      "       34.90011979, 58.62675305]), array([ 40.35535501,  33.44246054,  32.10238692, ..., -22.08781498,\n",
      "        27.64470055,  20.03165997]), array([-10.99551455, -41.73266687,  18.86351969, ...,   5.0888914 ,\n",
      "       -13.07280478, -19.700877  ]), array([ -5.63505234, -33.40908031, -21.2551544 , ..., -41.11236493,\n",
      "       -17.96242125, -41.95039319])]\n"
     ]
    },
    {
     "name": "stderr",
     "output_type": "stream",
     "text": [
      "/export/home/sapatel/anaconda3/lib/python3.9/site-packages/alchemlyb/parsing/amber.py:39: FutureWarning: pandas.Float64Index is deprecated and will be removed from pandas in a future version. Use pandas.Index with the appropriate dtype instead.\n",
      "  index=pd.Float64Index(data_dic[\"time\"], name='time'))\n"
     ]
    }
   ],
   "source": [
    "from alchemlyb.parsing.amber import extract_dHdl\n",
    "import os\n",
    "import glob\n",
    "import pandas as pd\n",
    "import math\n",
    "import matplotlib.pyplot as plt\n",
    "import numpy as np\n",
    "from pymbar import timeseries\n",
    "import sys\n",
    "from sklearn.utils import resample\n",
    "from sklearn.gaussian_process import GaussianProcessRegressor\n",
    "from sklearn.gaussian_process.kernels import RBF, ConstantKernel as C\n",
    "\n",
    "# constants\n",
    "temp=300.0\n",
    "k_b = 1.9872041e-3\n",
    "t_eq = 250 # equilibration time in frames (each frame = 2 ps)\n",
    "\n",
    "dcrglist0 = glob.glob('./la*/prod/*.out*')\n",
    "dcrglist0.sort()\n",
    "dHdl0=[extract_dHdl(j, temp) for j in dcrglist0]\n",
    "#Compile List\n",
    "lam_set = []\n",
    "dHdl=[]\n",
    "last_lam = 0\n",
    "for j in range(len(dcrglist0)):\n",
    "    lam_set.append(float(dcrglist0[j].split('/')[1].split('-')[1]))\n",
    "    print(last_lam, lam_set[-1], lam_set[-1] == last_lam)\n",
    "    if last_lam == lam_set[-1]:\n",
    "        working_array=np.concatenate((working_array, np.array(dHdl0[j]['dHdl'])))\n",
    "    else:\n",
    "        if j == 0:\n",
    "            working_array=np.array(dHdl0[j]['dHdl'])\n",
    "        else:\n",
    "            dHdl.append(working_array)\n",
    "            working_array=np.array(dHdl0[j]['dHdl'])\n",
    "        last_lam = lam_set[-1]\n",
    "        print(last_lam, lam_set[-1])\n",
    "dHdl.append(working_array)\n",
    "lam_set = list(set(lam_set))\n",
    "lam_set=sorted(lam_set)\n",
    "dHdl_eq0=[j[t_eq:] for j in dHdl]\n",
    "print(dHdl_eq0)\n",
    "dHdl_ssmp_indices0=[timeseries.subsampleCorrelatedData(j, conservative=True) for j in dHdl_eq0]\n",
    "dHdl_ssmp0 = [dHdl_eq0[j][dHdl_ssmp_indices0[j]] for j in range(len(dHdl_eq0))]\n"
   ]
  },
  {
   "cell_type": "code",
   "execution_count": 3,
   "id": "b326898d",
   "metadata": {},
   "outputs": [
    {
     "name": "stdout",
     "output_type": "stream",
     "text": [
      "9\n",
      "[0.1, 0.2, 0.3, 0.4, 0.5, 0.6, 0.7, 0.8, 0.9]\n"
     ]
    }
   ],
   "source": [
    "print(len(dHdl_ssmp0))\n",
    "print(lam_set)"
   ]
  },
  {
   "cell_type": "code",
   "execution_count": 4,
   "id": "8c0759f4",
   "metadata": {},
   "outputs": [],
   "source": [
    "#Bootstrap 10000 samples\n",
    "dmean0=[0]\n",
    "dvar0=[0]\n",
    "complex_lams = [0]+lam_set\n",
    "for j in range(len(dHdl_ssmp0)):\n",
    "    data1=dHdl_ssmp0[j]\n",
    "    boot_samples1 = [resample(data1, n_samples=len(data1)) for k in range(10000)]\n",
    "    boot_mean1=np.array([k.mean() for k in boot_samples1])\n",
    "    dmean0.append(boot_mean1.mean())\n",
    "    dvar0.append(boot_mean1.std()**2)\n",
    "complex_lams.append(1)\n",
    "dmean0.append(0)\n",
    "dvar0.append(0)\n"
   ]
  },
  {
   "cell_type": "code",
   "execution_count": 5,
   "id": "ac551eb6",
   "metadata": {},
   "outputs": [
    {
     "name": "stdout",
     "output_type": "stream",
     "text": [
      "0.2\n"
     ]
    },
    {
     "data": {
      "image/png": "[encoded data removed]",
      "text/plain": [
       "<Figure size 432x288 with 1 Axes>"
      ]
     },
     "metadata": {
      "needs_background": "light"
     },
     "output_type": "display_data"
    },
    {
     "name": "stdout",
     "output_type": "stream",
     "text": [
      "[range(0, 2001, 38), range(0, 2001, 231), range(0, 2001, 2), range(0, 2001, 2), range(0, 2001, 2), range(0, 2001, 2), range(0, 2001, 9), range(0, 2001, 4), range(0, 2001, 2)]\n"
     ]
    }
   ],
   "source": [
    "i = 1\n",
    "print(complex_lams[i+1])\n",
    "plt.figure()\n",
    "plt.plot(dHdl[i])\n",
    "plt.show()\n",
    "print(dHdl_ssmp_indices0)"
   ]
  },
  {
   "cell_type": "code",
   "execution_count": 6,
   "id": "ce6172c8",
   "metadata": {},
   "outputs": [],
   "source": [
    " #Apply Gaussian Process\n",
    "#determine kernel distance\n",
    "kernel_l=0\n",
    "for j in range(len(complex_lams)-1):\n",
    "    if complex_lams[j+1]-complex_lams[j] > kernel_l:\n",
    "        kernel_l = complex_lams[j+1]-complex_lams[j]\n",
    "\n",
    "#Model Data\n",
    "X=np.array(complex_lams)\n",
    "y=np.array(dmean0)\n",
    "#y_norm=(y-y.mean())/y.std()\n",
    "dy=np.array(dvar0)/y.std()**2\n",
    "comp_kernel = RBF(0.1, (1e-4, 1.0))\n",
    "x=np.atleast_2d(np.linspace(0,1,1001)).T\n",
    "comp_gp = GaussianProcessRegressor(kernel=comp_kernel, alpha=dy,\n",
    "                            n_restarts_optimizer=10, normalize_y=True)\n",
    "comp_gp.fit(X.reshape(-1, 1), y)\n",
    "y_pred, sigma = comp_gp.predict(x, return_std=True)\n",
    "\n"
   ]
  },
  {
   "cell_type": "code",
   "execution_count": 7,
   "id": "dff3f12a",
   "metadata": {},
   "outputs": [
    {
     "name": "stdout",
     "output_type": "stream",
     "text": [
      "0.184\n",
      "2.4128893388021715\n",
      "[0, 37.52431867317438, 55.69318139554544, 67.07794860013217, 75.97589469058052, 72.2291236093592, 58.39301828686978, 26.125129070855373, -5.404756095154794, -17.98451213689627, 0]\n",
      "[0, 0.1, 0.2, 0.3, 0.4, 0.5, 0.6, 0.7, 0.8, 0.9, 1]\n",
      "[0.  0.1 0.2 0.3 0.4 0.5 0.6 0.7 0.8 0.9 1. ] [  0.          37.52431867  55.6931814   67.0779486   75.97589469\n",
      "  72.22912361  58.39301829  26.12512907  -5.4047561  -17.98451214\n",
      "   0.        ]\n"
     ]
    }
   ],
   "source": [
    "print(np.argmax(sigma)*.001)\n",
    "print(np.max(sigma))\n",
    "print(dmean0)\n",
    "print(complex_lams)\n",
    "print(X, y)"
   ]
  },
  {
   "cell_type": "code",
   "execution_count": 8,
   "id": "439218fb",
   "metadata": {},
   "outputs": [
    {
     "data": {
      "image/png": "[encoded data removed]",
      "text/plain": [
       "<Figure size 432x288 with 1 Axes>"
      ]
     },
     "metadata": {
      "needs_background": "light"
     },
     "output_type": "display_data"
    }
   ],
   "source": [
    "plt.figure()\n",
    "plt.plot(x, y_pred, 'b-', label='Prediction')\n",
    "plt.plot(X, y,'r.', markersize=10, label='Observations')\n",
    "#plt.plot(complex_lams, dmean0,'r.', markersize=10, label=\"Obs2\")\n",
    "plt.fill(np.concatenate([x, x[::-1]]),\n",
    "         np.concatenate([y_pred - 1.9600 * sigma,\n",
    "                        (y_pred + 1.9600 * sigma)[::-1]]),\n",
    "         alpha=.5, fc='b', ec='None', label='95% confidence interval')\n",
    "\n",
    "plt.show()"
   ]
  },
  {
   "cell_type": "code",
   "execution_count": 9,
   "id": "d3cbee6d",
   "metadata": {},
   "outputs": [
    {
     "name": "stdout",
     "output_type": "stream",
     "text": [
      "[0, 2.186985181952173, 14.592429098174009, 0.09848330830054995, 0.16277765983679146, 0.23444400640644902, 0.29134769298577784, 1.9838416340958536, 0.9166955406660695, 0.19285833895047122, 0]\n",
      "[range(0, 2001, 38), range(0, 2001, 231), range(0, 2001, 2), range(0, 2001, 2), range(0, 2001, 2), range(0, 2001, 2), range(0, 2001, 9), range(0, 2001, 4), range(0, 2001, 2)]\n"
     ]
    }
   ],
   "source": [
    "print(dvar0)\n",
    "print(dHdl_ssmp_indices0)"
   ]
  },
  {
   "cell_type": "code",
   "execution_count": 33,
   "id": "28008462",
   "metadata": {},
   "outputs": [
    {
     "name": "stdout",
     "output_type": "stream",
     "text": [
      "range(0, 1906, 7)\n"
     ]
    }
   ],
   "source": [
    "dHdl_eq_t=dHdl[5][600:]\n",
    "dHdl_ssmp_indicest=timeseries.subsampleCorrelatedData(dHdl_eq_t, conservative=True)\n",
    "print(dHdl_ssmp_indicest)"
   ]
  },
  {
   "cell_type": "code",
   "execution_count": 34,
   "id": "c8158dce",
   "metadata": {},
   "outputs": [],
   "source": [
    "\n",
    "data1=dHdl_eq_t[dHdl_ssmp_indicest]\n",
    "boot_samples1 = [resample(data1, n_samples=len(data1)) for k in range(10000)]\n",
    "boot_mean1=np.array([k.mean() for k in boot_samples1])\n",
    "dmeant=boot_mean1.mean()\n",
    "dvart = boot_mean1.std()**2\n"
   ]
  },
  {
   "cell_type": "code",
   "execution_count": 35,
   "id": "435e4bfc",
   "metadata": {},
   "outputs": [
    {
     "name": "stdout",
     "output_type": "stream",
     "text": [
      "-0.37711050584250033 7.6250415010366694\n"
     ]
    }
   ],
   "source": [
    "print(dmeant,dvart)"
   ]
  },
  {
   "cell_type": "code",
   "execution_count": 36,
   "id": "e851d4af",
   "metadata": {},
   "outputs": [
    {
     "name": "stdout",
     "output_type": "stream",
     "text": [
      "0.06075813866150326 12.061327507156568\n"
     ]
    }
   ],
   "source": [
    "print(dmean0[6],dvar0[6])"
   ]
  },
  {
   "cell_type": "code",
   "execution_count": null,
   "id": "31085173",
   "metadata": {},
   "outputs": [],
   "source": []
  }
 ],
 "metadata": {
  "kernelspec": {
   "display_name": "Python 3 (ipykernel)",
   "language": "python",
   "name": "python3"
  },
  "language_info": {
   "codemirror_mode": {
    "name": "ipython",
    "version": 3
   },
   "file_extension": ".py",
   "mimetype": "text/x-python",
   "name": "python",
   "nbconvert_exporter": "python",
   "pygments_lexer": "ipython3",
   "version": "3.9.12"
  }
 },
 "nbformat": 4,
 "nbformat_minor": 5
}
